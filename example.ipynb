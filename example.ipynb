{
 "metadata": {
  "name": "",
  "signature": "sha256:2f1c2e2b1bac3bf7cad980e528385df95e26a877f02b512cd835b609d6f967d1"
 },
 "nbformat": 3,
 "nbformat_minor": 0,
 "worksheets": [
  {
   "cells": [
    {
     "cell_type": "heading",
     "level": 1,
     "metadata": {},
     "source": [
      "Using Vincent with Django models"
     ]
    },
    {
     "cell_type": "markdown",
     "metadata": {},
     "source": [
      "**Note** New in Django 1.7, django.setup() must be called in order to access django app models from the notebook"
     ]
    },
    {
     "cell_type": "code",
     "collapsed": false,
     "input": [
      "import os\n",
      "import django\n",
      "django.setup()"
     ],
     "language": "python",
     "metadata": {},
     "outputs": [],
     "prompt_number": 1
    },
    {
     "cell_type": "code",
     "collapsed": false,
     "input": [
      "from graph.apps.api.models import *"
     ],
     "language": "python",
     "metadata": {},
     "outputs": [],
     "prompt_number": 2
    },
    {
     "cell_type": "markdown",
     "metadata": {},
     "source": [
      "Models like Chart, ChartSeries etc. are now available\n",
      "\n",
      "    chart = Chart.objects.get(pk=1)\n",
      "\n",
      "This will work if there is a Chart created through the web interface. To use the file associated with a chart instead of the sample excel file in the example below you can use:\n",
      "\n",
      "    xlf = pandas.ExcelFile(chart.data.file.path)\n"
     ]
    },
    {
     "cell_type": "code",
     "collapsed": false,
     "input": [
      "import pandas as pd\n",
      "xlf = pd.ExcelFile(\"data/example.xlsx\")\n",
      "xld = xlf.parse(xlf.sheet_names[0], index_col=0)"
     ],
     "language": "python",
     "metadata": {},
     "outputs": [],
     "prompt_number": 3
    },
    {
     "cell_type": "markdown",
     "metadata": {},
     "source": [
      "`index_col` indicates which column to index the data on. In this case we use the first column, the month data."
     ]
    },
    {
     "cell_type": "code",
     "collapsed": false,
     "input": [
      "from vincent import *"
     ],
     "language": "python",
     "metadata": {},
     "outputs": [],
     "prompt_number": 4
    },
    {
     "cell_type": "markdown",
     "metadata": {},
     "source": [
      "Simple Vincent types like the Bar shown below work out of the box. The problem being that we don't want to simply stack all the different columns this way. Since in this case 'Signed Contracts' + 'Pipeline' should be equal to or greater than the 'Budget'"
     ]
    },
    {
     "cell_type": "code",
     "collapsed": false,
     "input": [
      "bar = Bar(xld)\n",
      "bar.axis_titles(x=\"Month\", y=\"euro\")\n",
      "bar.legend(title=\"Legend\")\n"
     ],
     "language": "python",
     "metadata": {},
     "outputs": [
      {
       "html": [
        "<div id=\"vis799fd99b77e54b2f884bd51f7674d7cd\"></div>\n",
        "<script>\n",
        "   ( function() {\n",
        "     var _do_plot = function() {\n",
        "       if (typeof vg === 'undefined') {\n",
        "         window.addEventListener('vincent_libs_loaded', _do_plot)\n",
        "         return;\n",
        "       }\n",
        "       vg.parse.spec({\"axes\": [{\"scale\": \"x\", \"title\": \"Month\", \"type\": \"x\"}, {\"scale\": \"y\", \"title\": \"euro\", \"type\": \"y\"}], \"data\": [{\"name\": \"table\", \"values\": [{\"col\": \"Signed Contract\", \"idx\": \"Jan\", \"val\": 91087.0}, {\"col\": \"Budget\", \"idx\": \"Jan\", \"val\": 120000.0}, {\"col\": \"Pipeline\", \"idx\": \"Jan\", \"val\": 21932.0}, {\"col\": \"Percentage\", \"idx\": \"Jan\", \"val\": 0.941825}, {\"col\": \"Signed Contract\", \"idx\": \"Feb\", \"val\": 106381.0}, {\"col\": \"Budget\", \"idx\": \"Feb\", \"val\": 120000.0}, {\"col\": \"Pipeline\", \"idx\": \"Feb\", \"val\": 16404.0}, {\"col\": \"Percentage\", \"idx\": \"Feb\", \"val\": 1.02320833333333}, {\"col\": \"Signed Contract\", \"idx\": \"March\", \"val\": 114870.0}, {\"col\": \"Budget\", \"idx\": \"March\", \"val\": 120000.0}, {\"col\": \"Pipeline\", \"idx\": \"March\", \"val\": 13944.0}, {\"col\": \"Percentage\", \"idx\": \"March\", \"val\": 1.07345}, {\"col\": \"Signed Contract\", \"idx\": \"April\", \"val\": 104127.0}, {\"col\": \"Budget\", \"idx\": \"April\", \"val\": 120000.0}, {\"col\": \"Pipeline\", \"idx\": \"April\", \"val\": 21770.0}, {\"col\": \"Percentage\", \"idx\": \"April\", \"val\": 1.04914166666667}, {\"col\": \"Signed Contract\", \"idx\": \"May\", \"val\": 106965.0}, {\"col\": \"Budget\", \"idx\": \"May\", \"val\": 120000.0}, {\"col\": \"Pipeline\", \"idx\": \"May\", \"val\": 16847.0}, {\"col\": \"Percentage\", \"idx\": \"May\", \"val\": 1.03176666666667}, {\"col\": \"Signed Contract\", \"idx\": \"June\", \"val\": 93601.0}, {\"col\": \"Budget\", \"idx\": \"June\", \"val\": 120000.0}, {\"col\": \"Pipeline\", \"idx\": \"June\", \"val\": 18569.0}, {\"col\": \"Percentage\", \"idx\": \"June\", \"val\": 0.93475}, {\"col\": \"Signed Contract\", \"idx\": \"July\", \"val\": 98540.0}, {\"col\": \"Budget\", \"idx\": \"July\", \"val\": 120000.0}, {\"col\": \"Pipeline\", \"idx\": \"July\", \"val\": 14126.0}, {\"col\": \"Percentage\", \"idx\": \"July\", \"val\": 0.938883333333333}, {\"col\": \"Signed Contract\", \"idx\": \"Aug\", \"val\": 90829.0}, {\"col\": \"Budget\", \"idx\": \"Aug\", \"val\": 120000.0}, {\"col\": \"Pipeline\", \"idx\": \"Aug\", \"val\": 13748.0}, {\"col\": \"Percentage\", \"idx\": \"Aug\", \"val\": 0.871475}, {\"col\": \"Signed Contract\", \"idx\": \"Sept\", \"val\": 95184.0}, {\"col\": \"Budget\", \"idx\": \"Sept\", \"val\": 120000.0}, {\"col\": \"Pipeline\", \"idx\": \"Sept\", \"val\": 14285.0}, {\"col\": \"Percentage\", \"idx\": \"Sept\", \"val\": 0.912241666666667}, {\"col\": \"Signed Contract\", \"idx\": \"Oct\", \"val\": 97255.0}, {\"col\": \"Budget\", \"idx\": \"Oct\", \"val\": 120000.0}, {\"col\": \"Pipeline\", \"idx\": \"Oct\", \"val\": 19468.0}, {\"col\": \"Percentage\", \"idx\": \"Oct\", \"val\": 0.972691666666667}, {\"col\": \"Signed Contract\", \"idx\": \"Nov\", \"val\": 118039.0}, {\"col\": \"Budget\", \"idx\": \"Nov\", \"val\": 120000.0}, {\"col\": \"Pipeline\", \"idx\": \"Nov\", \"val\": 23756.0}, {\"col\": \"Percentage\", \"idx\": \"Nov\", \"val\": 1.181625}, {\"col\": \"Signed Contract\", \"idx\": \"Dec\", \"val\": 109949.0}, {\"col\": \"Budget\", \"idx\": \"Dec\", \"val\": 120000.0}, {\"col\": \"Pipeline\", \"idx\": \"Dec\", \"val\": 29109.0}, {\"col\": \"Percentage\", \"idx\": \"Dec\", \"val\": 1.15881666666667}]}, {\"name\": \"stats\", \"source\": \"table\", \"transform\": [{\"keys\": [\"data.idx\"], \"type\": \"facet\"}, {\"type\": \"stats\", \"value\": \"data.val\"}]}], \"height\": 500, \"legends\": [{\"fill\": \"color\", \"offset\": 0, \"properties\": {}, \"title\": \"Legend\"}], \"marks\": [{\"from\": {\"data\": \"table\", \"transform\": [{\"keys\": [\"data.col\"], \"type\": \"facet\"}, {\"height\": \"data.val\", \"point\": \"data.idx\", \"type\": \"stack\"}]}, \"marks\": [{\"properties\": {\"enter\": {\"fill\": {\"field\": \"data.col\", \"scale\": \"color\"}, \"width\": {\"band\": true, \"offset\": -1, \"scale\": \"x\"}, \"x\": {\"field\": \"data.idx\", \"scale\": \"x\"}, \"y\": {\"field\": \"y\", \"scale\": \"y\"}, \"y2\": {\"field\": \"y2\", \"scale\": \"y\"}}}, \"type\": \"rect\"}], \"type\": \"group\"}], \"padding\": \"auto\", \"scales\": [{\"domain\": {\"data\": \"table\", \"field\": \"data.idx\"}, \"name\": \"x\", \"range\": \"width\", \"type\": \"ordinal\", \"zero\": false}, {\"domain\": {\"data\": \"stats\", \"field\": \"sum\"}, \"name\": \"y\", \"nice\": true, \"range\": \"height\"}, {\"domain\": {\"data\": \"table\", \"field\": \"data.col\"}, \"name\": \"color\", \"range\": \"category20\", \"type\": \"ordinal\"}], \"width\": 960}, function(chart) {\n",
        "         chart({el: \"#vis799fd99b77e54b2f884bd51f7674d7cd\"}).update();\n",
        "       });\n",
        "     };\n",
        "     _do_plot();\n",
        "   })();\n",
        "</script>\n",
        "<style>.vega canvas {width: 100%;}</style>\n",
        "        "
       ],
       "metadata": {},
       "output_type": "pyout",
       "prompt_number": 13,
       "text": [
        "<vincent.charts.Bar at 0x7f9095aa5510>"
       ]
      }
     ],
     "prompt_number": 13
    },
    {
     "cell_type": "markdown",
     "metadata": {},
     "source": [
      "Another type of bar chart, the grouped bar. This looks a little better compared to the previous chart. But still does not clearly depict the idea of a budget or rather a target or goal and two components which are trying to meet that goal"
     ]
    },
    {
     "cell_type": "code",
     "collapsed": false,
     "input": [
      "stacked = GroupedBar(xld)\n",
      "stacked.axis_titles(x=\"Month\", y=\"Money (euro)\")\n",
      "stacked.legend(title=\"Legend\")"
     ],
     "language": "python",
     "metadata": {},
     "outputs": [
      {
       "html": [
        "<div id=\"vis75d4678316f74edc934be0d089e7761b\"></div>\n",
        "<script>\n",
        "   ( function() {\n",
        "     var _do_plot = function() {\n",
        "       if (typeof vg === 'undefined') {\n",
        "         window.addEventListener('vincent_libs_loaded', _do_plot)\n",
        "         return;\n",
        "       }\n",
        "       vg.parse.spec({\"axes\": [{\"scale\": \"x\", \"title\": \"Month\", \"type\": \"x\"}, {\"scale\": \"y\", \"title\": \"Money (euro)\", \"type\": \"y\"}], \"data\": [{\"name\": \"table\", \"values\": [{\"col\": \"Signed Contract\", \"idx\": \"Jan\", \"val\": 91087.0}, {\"col\": \"Budget\", \"idx\": \"Jan\", \"val\": 120000.0}, {\"col\": \"Pipeline\", \"idx\": \"Jan\", \"val\": 21932.0}, {\"col\": \"Percentage\", \"idx\": \"Jan\", \"val\": 0.941825}, {\"col\": \"Signed Contract\", \"idx\": \"Feb\", \"val\": 106381.0}, {\"col\": \"Budget\", \"idx\": \"Feb\", \"val\": 120000.0}, {\"col\": \"Pipeline\", \"idx\": \"Feb\", \"val\": 16404.0}, {\"col\": \"Percentage\", \"idx\": \"Feb\", \"val\": 1.02320833333333}, {\"col\": \"Signed Contract\", \"idx\": \"March\", \"val\": 114870.0}, {\"col\": \"Budget\", \"idx\": \"March\", \"val\": 120000.0}, {\"col\": \"Pipeline\", \"idx\": \"March\", \"val\": 13944.0}, {\"col\": \"Percentage\", \"idx\": \"March\", \"val\": 1.07345}, {\"col\": \"Signed Contract\", \"idx\": \"April\", \"val\": 104127.0}, {\"col\": \"Budget\", \"idx\": \"April\", \"val\": 120000.0}, {\"col\": \"Pipeline\", \"idx\": \"April\", \"val\": 21770.0}, {\"col\": \"Percentage\", \"idx\": \"April\", \"val\": 1.04914166666667}, {\"col\": \"Signed Contract\", \"idx\": \"May\", \"val\": 106965.0}, {\"col\": \"Budget\", \"idx\": \"May\", \"val\": 120000.0}, {\"col\": \"Pipeline\", \"idx\": \"May\", \"val\": 16847.0}, {\"col\": \"Percentage\", \"idx\": \"May\", \"val\": 1.03176666666667}, {\"col\": \"Signed Contract\", \"idx\": \"June\", \"val\": 93601.0}, {\"col\": \"Budget\", \"idx\": \"June\", \"val\": 120000.0}, {\"col\": \"Pipeline\", \"idx\": \"June\", \"val\": 18569.0}, {\"col\": \"Percentage\", \"idx\": \"June\", \"val\": 0.93475}, {\"col\": \"Signed Contract\", \"idx\": \"July\", \"val\": 98540.0}, {\"col\": \"Budget\", \"idx\": \"July\", \"val\": 120000.0}, {\"col\": \"Pipeline\", \"idx\": \"July\", \"val\": 14126.0}, {\"col\": \"Percentage\", \"idx\": \"July\", \"val\": 0.938883333333333}, {\"col\": \"Signed Contract\", \"idx\": \"Aug\", \"val\": 90829.0}, {\"col\": \"Budget\", \"idx\": \"Aug\", \"val\": 120000.0}, {\"col\": \"Pipeline\", \"idx\": \"Aug\", \"val\": 13748.0}, {\"col\": \"Percentage\", \"idx\": \"Aug\", \"val\": 0.871475}, {\"col\": \"Signed Contract\", \"idx\": \"Sept\", \"val\": 95184.0}, {\"col\": \"Budget\", \"idx\": \"Sept\", \"val\": 120000.0}, {\"col\": \"Pipeline\", \"idx\": \"Sept\", \"val\": 14285.0}, {\"col\": \"Percentage\", \"idx\": \"Sept\", \"val\": 0.912241666666667}, {\"col\": \"Signed Contract\", \"idx\": \"Oct\", \"val\": 97255.0}, {\"col\": \"Budget\", \"idx\": \"Oct\", \"val\": 120000.0}, {\"col\": \"Pipeline\", \"idx\": \"Oct\", \"val\": 19468.0}, {\"col\": \"Percentage\", \"idx\": \"Oct\", \"val\": 0.972691666666667}, {\"col\": \"Signed Contract\", \"idx\": \"Nov\", \"val\": 118039.0}, {\"col\": \"Budget\", \"idx\": \"Nov\", \"val\": 120000.0}, {\"col\": \"Pipeline\", \"idx\": \"Nov\", \"val\": 23756.0}, {\"col\": \"Percentage\", \"idx\": \"Nov\", \"val\": 1.181625}, {\"col\": \"Signed Contract\", \"idx\": \"Dec\", \"val\": 109949.0}, {\"col\": \"Budget\", \"idx\": \"Dec\", \"val\": 120000.0}, {\"col\": \"Pipeline\", \"idx\": \"Dec\", \"val\": 29109.0}, {\"col\": \"Percentage\", \"idx\": \"Dec\", \"val\": 1.15881666666667}]}], \"height\": 500, \"legends\": [{\"fill\": \"color\", \"offset\": 0, \"properties\": {}, \"title\": \"Legend\"}], \"marks\": [{\"from\": {\"data\": \"table\", \"transform\": [{\"keys\": [\"data.idx\"], \"type\": \"facet\"}]}, \"marks\": [{\"properties\": {\"enter\": {\"fill\": {\"field\": \"data.col\", \"scale\": \"color\"}, \"width\": {\"band\": true, \"offset\": -1, \"scale\": \"pos\"}, \"x\": {\"field\": \"data.col\", \"scale\": \"pos\"}, \"y\": {\"field\": \"data.val\", \"scale\": \"y\"}, \"y2\": {\"scale\": \"y\", \"value\": 0}}}, \"type\": \"rect\"}], \"properties\": {\"enter\": {\"width\": {\"band\": true, \"scale\": \"x\"}, \"x\": {\"field\": \"key\", \"scale\": \"x\"}}}, \"scales\": [{\"domain\": {\"field\": \"data.col\"}, \"name\": \"pos\", \"range\": \"width\", \"type\": \"ordinal\"}], \"type\": \"group\"}], \"padding\": \"auto\", \"scales\": [{\"domain\": {\"data\": \"table\", \"field\": \"data.idx\"}, \"name\": \"x\", \"padding\": 0.2, \"range\": \"width\", \"type\": \"ordinal\"}, {\"domain\": {\"data\": \"table\", \"field\": \"data.val\"}, \"name\": \"y\", \"nice\": true, \"range\": \"height\"}, {\"domain\": {\"data\": \"table\", \"field\": \"data.col\"}, \"name\": \"color\", \"range\": \"category20\", \"type\": \"ordinal\"}], \"width\": 960}, function(chart) {\n",
        "         chart({el: \"#vis75d4678316f74edc934be0d089e7761b\"}).update();\n",
        "       });\n",
        "     };\n",
        "     _do_plot();\n",
        "   })();\n",
        "</script>\n",
        "<style>.vega canvas {width: 100%;}</style>\n",
        "        "
       ],
       "metadata": {},
       "output_type": "pyout",
       "prompt_number": 14,
       "text": [
        "<vincent.charts.GroupedBar at 0x7f909602a990>"
       ]
      }
     ],
     "prompt_number": 14
    },
    {
     "cell_type": "code",
     "collapsed": false,
     "input": [
      "vis = Visualization(width=500, height=300)"
     ],
     "language": "python",
     "metadata": {},
     "outputs": [],
     "prompt_number": 7
    },
    {
     "cell_type": "code",
     "collapsed": false,
     "input": [
      "data = Data.from_pandas(xld)"
     ],
     "language": "python",
     "metadata": {},
     "outputs": [],
     "prompt_number": 8
    },
    {
     "cell_type": "code",
     "collapsed": false,
     "input": [
      "vis.scales['x'] = Scale(name='x', type='ordinal', range='width', domain=DataRef(data='table', field='data.idx'))\n",
      "vis.scales['y'] = Scale(name='y', nice=True, range='height', domain=DataRef(data='table', field='data.val'))\n"
     ],
     "language": "python",
     "metadata": {},
     "outputs": [],
     "prompt_number": 9
    },
    {
     "cell_type": "code",
     "collapsed": false,
     "input": [
      "vis.axes.extend([Axis(type='x', scale='x'), Axis(type='y', scale='y')])"
     ],
     "language": "python",
     "metadata": {},
     "outputs": [],
     "prompt_number": 10
    },
    {
     "cell_type": "code",
     "collapsed": false,
     "input": [
      "enter_props = PropertySet(x=ValueRef(scale='x', field=\"data.idx\"),\n",
      "                          y=ValueRef(scale='y', field=\"data.val\"),\n",
      "                          width=ValueRef(scale='x', band=True, offset=-1),\n",
      "                          y2=ValueRef(scale='y', value=0))\n",
      "\n",
      "update_props = PropertySet(fill=ValueRef(value='steelblue'))\n",
      "\n",
      "mark = Mark(type='rect', from_=MarkRef(data='table'),\n",
      "            properties=MarkProperties(enter=enter_props,\n",
      "                                      update=update_props))\n",
      "vis.marks.append(mark)"
     ],
     "language": "python",
     "metadata": {},
     "outputs": [],
     "prompt_number": 11
    },
    {
     "cell_type": "markdown",
     "metadata": {},
     "source": [
      "The only way of representing a more complex chart is by using the Visualization object and setting its properties. Debugging the chart below to see why it appears to display the Budget column."
     ]
    },
    {
     "cell_type": "code",
     "collapsed": false,
     "input": [
      "vis.data['table'] = data\n",
      "vis.display()"
     ],
     "language": "python",
     "metadata": {},
     "outputs": [
      {
       "html": [
        "<div id=\"visee3194b5842b442f967db85ebf84d7bb\"></div>\n",
        "<script>\n",
        "   ( function() {\n",
        "     var _do_plot = function() {\n",
        "       if (typeof vg === 'undefined') {\n",
        "         window.addEventListener('vincent_libs_loaded', _do_plot)\n",
        "         return;\n",
        "       }\n",
        "       vg.parse.spec({\"axes\": [{\"scale\": \"x\", \"type\": \"x\"}, {\"scale\": \"y\", \"type\": \"y\"}], \"data\": [{\"name\": \"table\", \"values\": [{\"col\": \"Signed Contract\", \"idx\": \"Jan\", \"val\": 91087.0}, {\"col\": \"Budget\", \"idx\": \"Jan\", \"val\": 120000.0}, {\"col\": \"Pipeline\", \"idx\": \"Jan\", \"val\": 21932.0}, {\"col\": \"Percentage\", \"idx\": \"Jan\", \"val\": 0.941825}, {\"col\": \"Signed Contract\", \"idx\": \"Feb\", \"val\": 106381.0}, {\"col\": \"Budget\", \"idx\": \"Feb\", \"val\": 120000.0}, {\"col\": \"Pipeline\", \"idx\": \"Feb\", \"val\": 16404.0}, {\"col\": \"Percentage\", \"idx\": \"Feb\", \"val\": 1.02320833333333}, {\"col\": \"Signed Contract\", \"idx\": \"March\", \"val\": 114870.0}, {\"col\": \"Budget\", \"idx\": \"March\", \"val\": 120000.0}, {\"col\": \"Pipeline\", \"idx\": \"March\", \"val\": 13944.0}, {\"col\": \"Percentage\", \"idx\": \"March\", \"val\": 1.07345}, {\"col\": \"Signed Contract\", \"idx\": \"April\", \"val\": 104127.0}, {\"col\": \"Budget\", \"idx\": \"April\", \"val\": 120000.0}, {\"col\": \"Pipeline\", \"idx\": \"April\", \"val\": 21770.0}, {\"col\": \"Percentage\", \"idx\": \"April\", \"val\": 1.04914166666667}, {\"col\": \"Signed Contract\", \"idx\": \"May\", \"val\": 106965.0}, {\"col\": \"Budget\", \"idx\": \"May\", \"val\": 120000.0}, {\"col\": \"Pipeline\", \"idx\": \"May\", \"val\": 16847.0}, {\"col\": \"Percentage\", \"idx\": \"May\", \"val\": 1.03176666666667}, {\"col\": \"Signed Contract\", \"idx\": \"June\", \"val\": 93601.0}, {\"col\": \"Budget\", \"idx\": \"June\", \"val\": 120000.0}, {\"col\": \"Pipeline\", \"idx\": \"June\", \"val\": 18569.0}, {\"col\": \"Percentage\", \"idx\": \"June\", \"val\": 0.93475}, {\"col\": \"Signed Contract\", \"idx\": \"July\", \"val\": 98540.0}, {\"col\": \"Budget\", \"idx\": \"July\", \"val\": 120000.0}, {\"col\": \"Pipeline\", \"idx\": \"July\", \"val\": 14126.0}, {\"col\": \"Percentage\", \"idx\": \"July\", \"val\": 0.938883333333333}, {\"col\": \"Signed Contract\", \"idx\": \"Aug\", \"val\": 90829.0}, {\"col\": \"Budget\", \"idx\": \"Aug\", \"val\": 120000.0}, {\"col\": \"Pipeline\", \"idx\": \"Aug\", \"val\": 13748.0}, {\"col\": \"Percentage\", \"idx\": \"Aug\", \"val\": 0.871475}, {\"col\": \"Signed Contract\", \"idx\": \"Sept\", \"val\": 95184.0}, {\"col\": \"Budget\", \"idx\": \"Sept\", \"val\": 120000.0}, {\"col\": \"Pipeline\", \"idx\": \"Sept\", \"val\": 14285.0}, {\"col\": \"Percentage\", \"idx\": \"Sept\", \"val\": 0.912241666666667}, {\"col\": \"Signed Contract\", \"idx\": \"Oct\", \"val\": 97255.0}, {\"col\": \"Budget\", \"idx\": \"Oct\", \"val\": 120000.0}, {\"col\": \"Pipeline\", \"idx\": \"Oct\", \"val\": 19468.0}, {\"col\": \"Percentage\", \"idx\": \"Oct\", \"val\": 0.972691666666667}, {\"col\": \"Signed Contract\", \"idx\": \"Nov\", \"val\": 118039.0}, {\"col\": \"Budget\", \"idx\": \"Nov\", \"val\": 120000.0}, {\"col\": \"Pipeline\", \"idx\": \"Nov\", \"val\": 23756.0}, {\"col\": \"Percentage\", \"idx\": \"Nov\", \"val\": 1.181625}, {\"col\": \"Signed Contract\", \"idx\": \"Dec\", \"val\": 109949.0}, {\"col\": \"Budget\", \"idx\": \"Dec\", \"val\": 120000.0}, {\"col\": \"Pipeline\", \"idx\": \"Dec\", \"val\": 29109.0}, {\"col\": \"Percentage\", \"idx\": \"Dec\", \"val\": 1.15881666666667}]}], \"height\": 300, \"legends\": [], \"marks\": [{\"from\": {\"data\": \"table\"}, \"properties\": {\"enter\": {\"width\": {\"band\": true, \"offset\": -1, \"scale\": \"x\"}, \"x\": {\"field\": \"data.idx\", \"scale\": \"x\"}, \"y\": {\"field\": \"data.val\", \"scale\": \"y\"}, \"y2\": {\"scale\": \"y\", \"value\": 0}}, \"update\": {\"fill\": {\"value\": \"steelblue\"}}}, \"type\": \"rect\"}], \"scales\": [{\"domain\": {\"data\": \"table\", \"field\": \"data.idx\"}, \"name\": \"x\", \"range\": \"width\", \"type\": \"ordinal\"}, {\"domain\": {\"data\": \"table\", \"field\": \"data.val\"}, \"name\": \"y\", \"nice\": true, \"range\": \"height\"}], \"width\": 500}, function(chart) {\n",
        "         chart({el: \"#visee3194b5842b442f967db85ebf84d7bb\"}).update();\n",
        "       });\n",
        "     };\n",
        "     _do_plot();\n",
        "   })();\n",
        "</script>\n",
        "<style>.vega canvas {width: 100%;}</style>\n",
        "        "
       ],
       "metadata": {},
       "output_type": "display_data",
       "text": [
        "<IPython.core.display.HTML at 0x7fa7d6ba3190>"
       ]
      }
     ],
     "prompt_number": 13
    },
    {
     "cell_type": "code",
     "collapsed": false,
     "input": [
      "vis.to_json(pretty_print=False)"
     ],
     "language": "python",
     "metadata": {},
     "outputs": [
      {
       "metadata": {},
       "output_type": "pyout",
       "prompt_number": 14,
       "text": [
        "'{\"axes\": [{\"scale\": \"x\", \"type\": \"x\"}, {\"scale\": \"y\", \"type\": \"y\"}], \"data\": [{\"name\": \"table\", \"values\": [{\"col\": \"Signed Contract\", \"idx\": \"Jan\", \"val\": 91087.0}, {\"col\": \"Budget\", \"idx\": \"Jan\", \"val\": 120000.0}, {\"col\": \"Pipeline\", \"idx\": \"Jan\", \"val\": 21932.0}, {\"col\": \"Percentage\", \"idx\": \"Jan\", \"val\": 0.941825}, {\"col\": \"Signed Contract\", \"idx\": \"Feb\", \"val\": 106381.0}, {\"col\": \"Budget\", \"idx\": \"Feb\", \"val\": 120000.0}, {\"col\": \"Pipeline\", \"idx\": \"Feb\", \"val\": 16404.0}, {\"col\": \"Percentage\", \"idx\": \"Feb\", \"val\": 1.02320833333333}, {\"col\": \"Signed Contract\", \"idx\": \"March\", \"val\": 114870.0}, {\"col\": \"Budget\", \"idx\": \"March\", \"val\": 120000.0}, {\"col\": \"Pipeline\", \"idx\": \"March\", \"val\": 13944.0}, {\"col\": \"Percentage\", \"idx\": \"March\", \"val\": 1.07345}, {\"col\": \"Signed Contract\", \"idx\": \"April\", \"val\": 104127.0}, {\"col\": \"Budget\", \"idx\": \"April\", \"val\": 120000.0}, {\"col\": \"Pipeline\", \"idx\": \"April\", \"val\": 21770.0}, {\"col\": \"Percentage\", \"idx\": \"April\", \"val\": 1.04914166666667}, {\"col\": \"Signed Contract\", \"idx\": \"May\", \"val\": 106965.0}, {\"col\": \"Budget\", \"idx\": \"May\", \"val\": 120000.0}, {\"col\": \"Pipeline\", \"idx\": \"May\", \"val\": 16847.0}, {\"col\": \"Percentage\", \"idx\": \"May\", \"val\": 1.03176666666667}, {\"col\": \"Signed Contract\", \"idx\": \"June\", \"val\": 93601.0}, {\"col\": \"Budget\", \"idx\": \"June\", \"val\": 120000.0}, {\"col\": \"Pipeline\", \"idx\": \"June\", \"val\": 18569.0}, {\"col\": \"Percentage\", \"idx\": \"June\", \"val\": 0.93475}, {\"col\": \"Signed Contract\", \"idx\": \"July\", \"val\": 98540.0}, {\"col\": \"Budget\", \"idx\": \"July\", \"val\": 120000.0}, {\"col\": \"Pipeline\", \"idx\": \"July\", \"val\": 14126.0}, {\"col\": \"Percentage\", \"idx\": \"July\", \"val\": 0.938883333333333}, {\"col\": \"Signed Contract\", \"idx\": \"Aug\", \"val\": 90829.0}, {\"col\": \"Budget\", \"idx\": \"Aug\", \"val\": 120000.0}, {\"col\": \"Pipeline\", \"idx\": \"Aug\", \"val\": 13748.0}, {\"col\": \"Percentage\", \"idx\": \"Aug\", \"val\": 0.871475}, {\"col\": \"Signed Contract\", \"idx\": \"Sept\", \"val\": 95184.0}, {\"col\": \"Budget\", \"idx\": \"Sept\", \"val\": 120000.0}, {\"col\": \"Pipeline\", \"idx\": \"Sept\", \"val\": 14285.0}, {\"col\": \"Percentage\", \"idx\": \"Sept\", \"val\": 0.912241666666667}, {\"col\": \"Signed Contract\", \"idx\": \"Oct\", \"val\": 97255.0}, {\"col\": \"Budget\", \"idx\": \"Oct\", \"val\": 120000.0}, {\"col\": \"Pipeline\", \"idx\": \"Oct\", \"val\": 19468.0}, {\"col\": \"Percentage\", \"idx\": \"Oct\", \"val\": 0.972691666666667}, {\"col\": \"Signed Contract\", \"idx\": \"Nov\", \"val\": 118039.0}, {\"col\": \"Budget\", \"idx\": \"Nov\", \"val\": 120000.0}, {\"col\": \"Pipeline\", \"idx\": \"Nov\", \"val\": 23756.0}, {\"col\": \"Percentage\", \"idx\": \"Nov\", \"val\": 1.181625}, {\"col\": \"Signed Contract\", \"idx\": \"Dec\", \"val\": 109949.0}, {\"col\": \"Budget\", \"idx\": \"Dec\", \"val\": 120000.0}, {\"col\": \"Pipeline\", \"idx\": \"Dec\", \"val\": 29109.0}, {\"col\": \"Percentage\", \"idx\": \"Dec\", \"val\": 1.15881666666667}]}], \"height\": 300, \"legends\": [], \"marks\": [{\"from\": {\"data\": \"table\"}, \"properties\": {\"enter\": {\"width\": {\"band\": true, \"offset\": -1, \"scale\": \"x\"}, \"x\": {\"field\": \"data.idx\", \"scale\": \"x\"}, \"y\": {\"field\": \"data.val\", \"scale\": \"y\"}, \"y2\": {\"scale\": \"y\", \"value\": 0}}, \"update\": {\"fill\": {\"value\": \"steelblue\"}}}, \"type\": \"rect\"}], \"scales\": [{\"domain\": {\"data\": \"table\", \"field\": \"data.idx\"}, \"name\": \"x\", \"range\": \"width\", \"type\": \"ordinal\"}, {\"domain\": {\"data\": \"table\", \"field\": \"data.val\"}, \"name\": \"y\", \"nice\": true, \"range\": \"height\"}], \"width\": 500}'"
       ]
      }
     ],
     "prompt_number": 14
    },
    {
     "cell_type": "code",
     "collapsed": false,
     "input": [],
     "language": "python",
     "metadata": {},
     "outputs": [],
     "prompt_number": 14
    }
   ],
   "metadata": {}
  }
 ]
}